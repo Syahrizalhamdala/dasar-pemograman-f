{
 "cells": [
  {
   "cell_type": "markdown",
   "id": "d384fcbe-d5b0-411d-9aad-f9e0c2baca72",
   "metadata": {},
   "source": [
    "<center>\n",
    "    <img src=\"https://logos-world.net/wp-content/uploads/2021/10/Python-Logo.png\" width=\"200\" lenght=\"200\">\n",
    "</center>\n",
    "<br>jenis cell di <b>Jupyter Notebook</b> ada 2\n",
    "<ol>\n",
    "    <li> Mark down (M)</li>\n",
    "    <li> Code (Y)</li>\n",
    "</ol>\n",
    "<hr>"
   ]
  },
  {
   "cell_type": "markdown",
   "id": "9b3534aa-f64b-4edf-8377-e375651dba6e",
   "metadata": {},
   "source": [
    "Cara menambah cell ada 2:\n",
    "<ul>\n",
    "    <li>Above (A)</li>\n",
    "    <li>Bellow (B)</li>\n",
    "    \n",
    "</ul>\n",
    "\n",
    "<table>\n",
    "    <tr>\n",
    "        <td>Perintah</td>\n",
    "        <td>Keterangan</td>\n",
    "    </tr>\n",
    "    <tr>\n",
    "        <td>ctrl + enter</td>\n",
    "        <td>Running dan fokus di cell</td>\n",
    "    </tr>\n",
    "    <tr>\n",
    "        <td>Shift +enter</td>\n",
    "        <td>Running dan fokus di cell berikut nya</td>\n",
    "    </tr>\n",
    "</table>\n",
    " "
   ]
  },
  {
   "cell_type": "code",
   "execution_count": 43,
   "id": "1c8fcc0d-b2b2-43d9-a59b-655f39941f72",
   "metadata": {},
   "outputs": [
    {
     "name": "stdout",
     "output_type": "stream",
     "text": [
      "Python is very easy\n",
      "5\n",
      "sekarang hari jumat\n",
      "deklarasi variabel \"A\"\n",
      "15\n",
      "10\n"
     ]
    },
    {
     "data": {
      "text/plain": [
       "'10'"
      ]
     },
     "execution_count": 43,
     "metadata": {},
     "output_type": "execute_result"
    }
   ],
   "source": [
    "print(\"Python is very easy\")\n",
    "data = 5\n",
    "data2 = \"10\"\n",
    "print(data)\n",
    "print(\"sekarang hari jumat\")\n",
    "print('deklarasi variabel \"A\"')\n",
    "print(data + int(data2))\n",
    "print(data2)\n",
    "data2\n",
    "\n",
    "       "
   ]
  },
  {
   "cell_type": "code",
   "execution_count": null,
   "id": "14abeccf-4843-454f-8cdb-8b1c59513943",
   "metadata": {},
   "outputs": [],
   "source": []
  }
 ],
 "metadata": {
  "kernelspec": {
   "display_name": "Python [conda env:base] *",
   "language": "python",
   "name": "conda-base-py"
  },
  "language_info": {
   "codemirror_mode": {
    "name": "ipython",
    "version": 3
   },
   "file_extension": ".py",
   "mimetype": "text/x-python",
   "name": "python",
   "nbconvert_exporter": "python",
   "pygments_lexer": "ipython3",
   "version": "3.12.7"
  }
 },
 "nbformat": 4,
 "nbformat_minor": 5
}
